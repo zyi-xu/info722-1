{
 "cells": [
  {
   "cell_type": "code",
   "execution_count": 1,
   "id": "b7e3a749",
   "metadata": {},
   "outputs": [
    {
     "name": "stderr",
     "output_type": "stream",
     "text": [
      "WARNING: An illegal reflective access operation has occurred\n",
      "WARNING: Illegal reflective access by org.apache.spark.unsafe.Platform (file:/home/ubuntu/spark-3.2.1-bin-hadoop2.7/jars/spark-unsafe_2.12-3.2.1.jar) to constructor java.nio.DirectByteBuffer(long,int)\n",
      "WARNING: Please consider reporting this to the maintainers of org.apache.spark.unsafe.Platform\n",
      "WARNING: Use --illegal-access=warn to enable warnings of further illegal reflective access operations\n",
      "WARNING: All illegal access operations will be denied in a future release\n",
      "Using Spark's default log4j profile: org/apache/spark/log4j-defaults.properties\n",
      "Setting default log level to \"WARN\".\n",
      "To adjust logging level use sc.setLogLevel(newLevel). For SparkR, use setLogLevel(newLevel).\n",
      "22/10/09 15:25:07 WARN NativeCodeLoader: Unable to load native-hadoop library for your platform... using builtin-java classes where applicable\n"
     ]
    }
   ],
   "source": [
    "import findspark\n",
    "findspark.init('/home/ubuntu/spark-3.2.1-bin-hadoop2.7')\n",
    "import pyspark\n",
    "from pyspark.sql import SparkSession\n",
    "spark = SparkSession.builder.appName('missing').getOrCreate()"
   ]
  },
  {
   "cell_type": "code",
   "execution_count": 3,
   "id": "f4980fd3",
   "metadata": {},
   "outputs": [
    {
     "name": "stderr",
     "output_type": "stream",
     "text": [
      "                                                                                \r"
     ]
    },
    {
     "name": "stdout",
     "output_type": "stream",
     "text": [
      "total-data= 70687\n"
     ]
    },
    {
     "data": {
      "image/png": "[encoded data removed]",
      "text/plain": [
       "<Figure size 432x288 with 1 Axes>"
      ]
     },
     "metadata": {
      "needs_background": "light"
     },
     "output_type": "display_data"
    }
   ],
   "source": [
    "df = spark.read.csv('cleandiabetedata.csv', header=True, inferSchema=True)\n",
    "num_of_all_data=df.count()\n",
    "print('total-data=',num_of_all_data)\n",
    "import matplotlib.pyplot as plt\n",
    "datalist2=[num_of_all_data]\n",
    "xlist2=[1]\n",
    "labellist=['total-data_after data cleaning']\n",
    "plt.bar(1,datalist2)\n",
    "plt.xticks(xlist2,labellist)\n",
    "plt.margins(0.5)\n",
    "plt.show()"
   ]
  },
  {
   "cell_type": "code",
   "execution_count": 3,
   "id": "4b87998d",
   "metadata": {},
   "outputs": [
    {
     "name": "stderr",
     "output_type": "stream",
     "text": [
      "                                                                                \r"
     ]
    },
    {
     "name": "stdout",
     "output_type": "stream",
     "text": [
      "[0, 1] [35341, 35346]\n"
     ]
    },
    {
     "data": {
      "image/png": "[encoded data removed]",
      "text/plain": [
       "<Figure size 432x288 with 1 Axes>"
      ]
     },
     "metadata": {
      "needs_background": "light"
     },
     "output_type": "display_data"
    }
   ],
   "source": [
    "fromsparklist_name=df.select(\"Diabetes_binary\").collect()\n",
    "fromsparklist = [row[0] for row in fromsparklist_name]\n",
    "numcountdict={}\n",
    "for one in fromsparklist:\n",
    "    got=0\n",
    "    for key1 in numcountdict.keys():\n",
    "        if one==key1:\n",
    "            numbefore=numcountdict[one]\n",
    "            numcountdict[one]=numbefore+1\n",
    "            got=1\n",
    "    if got==0:\n",
    "        numcountdict[one]=1\n",
    "numsortdict=sorted(numcountdict.items(),key=lambda x:x[0])\n",
    "namelist=[]\n",
    "valuelist=[]\n",
    "for ones in numsortdict:\n",
    "    namelist.append(ones[0])\n",
    "    valuelist.append(ones[1])\n",
    "print(namelist,valuelist)\n",
    "import matplotlib.pyplot as plt\n",
    "plt.bar(namelist,valuelist)\n",
    "plt.xticks(namelist,namelist)\n",
    "plt.margins(0.1)\n",
    "plt.show()"
   ]
  },
  {
   "cell_type": "code",
   "execution_count": 4,
   "id": "8d7a10e0",
   "metadata": {},
   "outputs": [
    {
     "name": "stdout",
     "output_type": "stream",
     "text": [
      "[0, 1] [27442, 43245]\n"
     ]
    },
    {
     "data": {
      "image/png": "[encoded data removed]",
      "text/plain": [
       "<Figure size 432x288 with 1 Axes>"
      ]
     },
     "metadata": {
      "needs_background": "light"
     },
     "output_type": "display_data"
    }
   ],
   "source": [
    "fromsparklist_name=df.select(\"Fruits\").collect()\n",
    "fromsparklist = [row[0] for row in fromsparklist_name]\n",
    "numcountdict={}\n",
    "for one in fromsparklist:\n",
    "    got=0\n",
    "    for key1 in numcountdict.keys():\n",
    "        if one==key1:\n",
    "            numbefore=numcountdict[one]\n",
    "            numcountdict[one]=numbefore+1\n",
    "            got=1\n",
    "    if got==0:\n",
    "        numcountdict[one]=1\n",
    "numsortdict=sorted(numcountdict.items(),key=lambda x:x[0])\n",
    "namelist=[]\n",
    "valuelist=[]\n",
    "for ones in numsortdict:\n",
    "    namelist.append(ones[0])\n",
    "    valuelist.append(ones[1])\n",
    "print(namelist,valuelist)\n",
    "import matplotlib.pyplot as plt\n",
    "plt.bar(namelist,valuelist)\n",
    "plt.xticks(namelist,namelist)\n",
    "plt.margins(0.1)\n",
    "plt.show()"
   ]
  },
  {
   "cell_type": "code",
   "execution_count": 5,
   "id": "e4c479d4",
   "metadata": {},
   "outputs": [
    {
     "name": "stdout",
     "output_type": "stream",
     "text": [
      "[1, 2, 3] [5168, 39499, 26020]\n"
     ]
    },
    {
     "data": {
      "image/png": "[encoded data removed]",
      "text/plain": [
       "<Figure size 432x288 with 1 Axes>"
      ]
     },
     "metadata": {
      "needs_background": "light"
     },
     "output_type": "display_data"
    }
   ],
   "source": [
    "fromsparklist_name=df.select(\"Education\").collect()\n",
    "fromsparklist = [row[0] for row in fromsparklist_name]\n",
    "numcountdict={}\n",
    "for one in fromsparklist:\n",
    "    got=0\n",
    "    for key1 in numcountdict.keys():\n",
    "        if one==key1:\n",
    "            numbefore=numcountdict[one]\n",
    "            numcountdict[one]=numbefore+1\n",
    "            got=1\n",
    "    if got==0:\n",
    "        numcountdict[one]=1\n",
    "numsortdict=sorted(numcountdict.items(),key=lambda x:x[0])\n",
    "namelist=[]\n",
    "valuelist=[]\n",
    "for ones in numsortdict:\n",
    "    namelist.append(ones[0])\n",
    "    valuelist.append(ones[1])\n",
    "print(namelist,valuelist)\n",
    "import matplotlib.pyplot as plt\n",
    "plt.bar(namelist,valuelist)\n",
    "plt.xticks(namelist,namelist)\n",
    "plt.margins(0.1)\n",
    "plt.show()"
   ]
  },
  {
   "cell_type": "code",
   "execution_count": 4,
   "id": "8557a538",
   "metadata": {},
   "outputs": [
    {
     "name": "stderr",
     "output_type": "stream",
     "text": [
      "\r",
      "[Stage 5:>                                                          (0 + 1) / 1]\r",
      "\r",
      "                                                                                \r"
     ]
    },
    {
     "name": "stdout",
     "output_type": "stream",
     "text": [
      "[0, 1] [14931, 55756]\n"
     ]
    },
    {
     "data": {
      "image/png": "[encoded data removed]",
      "text/plain": [
       "<Figure size 432x288 with 1 Axes>"
      ]
     },
     "metadata": {
      "needs_background": "light"
     },
     "output_type": "display_data"
    }
   ],
   "source": [
    "fromsparklist_name=df.select(\"Veggies\").collect()\n",
    "fromsparklist = [row[0] for row in fromsparklist_name]\n",
    "numcountdict={}\n",
    "for one in fromsparklist:\n",
    "    got=0\n",
    "    for key1 in numcountdict.keys():\n",
    "        if one==key1:\n",
    "            numbefore=numcountdict[one]\n",
    "            numcountdict[one]=numbefore+1\n",
    "            got=1\n",
    "    if got==0:\n",
    "        numcountdict[one]=1\n",
    "numsortdict=sorted(numcountdict.items(),key=lambda x:x[0])\n",
    "namelist=[]\n",
    "valuelist=[]\n",
    "for ones in numsortdict:\n",
    "    namelist.append(ones[0])\n",
    "    valuelist.append(ones[1])\n",
    "print(namelist,valuelist)\n",
    "import matplotlib.pyplot as plt\n",
    "plt.bar(namelist,valuelist)\n",
    "plt.xticks(namelist,namelist)\n",
    "plt.margins(0.1)\n",
    "plt.show()"
   ]
  },
  {
   "cell_type": "code",
   "execution_count": 5,
   "id": "05fc6808",
   "metadata": {},
   "outputs": [
    {
     "name": "stdout",
     "output_type": "stream",
     "text": [
      "Diabetes_binary\n",
      "HighBP\n",
      "HighChol\n",
      "CholCheck\n",
      "BMI\n",
      "Smoker\n",
      "Stroke\n",
      "HeartDiseaseorAttack\n",
      "PhysActivity\n",
      "Fruits\n",
      "Veggies\n",
      "HvyAlcoholConsump\n",
      "GenHlth\n",
      "MentHlth\n",
      "PhysHlth\n",
      "DiffWalk\n",
      "Sex\n",
      "Age\n",
      "Education\n",
      "Income\n",
      "total colnumber= 20\n"
     ]
    }
   ],
   "source": [
    "colnumber=0\n",
    "for onecolumn in df.columns:\n",
    "    print(onecolumn)\n",
    "    colnumber+=1\n",
    "    \n",
    "print(\"total colnumber=\",colnumber)"
   ]
  },
  {
   "cell_type": "code",
   "execution_count": 6,
   "id": "2c20e752",
   "metadata": {},
   "outputs": [
    {
     "name": "stdout",
     "output_type": "stream",
     "text": [
      "[3.4641016151377544, 3.605551275463989, 3.7416573867739413, 3.872983346207417, 4.0, 4.123105625617661, 4.242640687119285, 4.358898943540674, 4.47213595499958, 4.58257569495584, 4.69041575982343, 4.795831523312719, 4.898979485566356, 5.0, 5.0990195135927845, 5.196152422706632, 5.291502622129181, 5.385164807134504, 5.477225575051661, 5.5677643628300215, 5.656854249492381, 5.744562646538029, 5.830951894845301, 5.916079783099616, 6.0, 6.082762530298219, 6.164414002968976, 6.244997998398398, 6.324555320336759, 6.4031242374328485, 6.48074069840786, 6.557438524302, 6.6332495807108, 6.708203932499369, 6.782329983125268, 6.855654600401044, 6.928203230275509, 7.0, 7.0710678118654755, 7.14142842854285, 7.211102550927978, 7.280109889280518, 7.3484692283495345, 7.416198487095663, 7.483314773547883, 7.54983443527075, 7.615773105863909, 7.681145747868608, 7.745966692414834, 7.810249675906654, 7.874007874011811, 7.937253933193772, 8.0, 8.06225774829855, 8.12403840463596, 8.18535277187245, 8.246211251235321, 8.306623862918075, 8.366600265340756, 8.426149773176359, 8.48528137423857, 8.54400374531753, 8.602325267042627, 8.660254037844387, 8.717797887081348, 8.774964387392123, 8.831760866327848, 8.888194417315589, 8.94427190999916, 9.0, 9.055385138137417, 9.1104335791443, 9.16515138991168, 9.219544457292887, 9.273618495495704, 9.327379053088816, 9.433981132056603, 9.591663046625438, 9.746794344808963, 9.899494936611665] [1, 8, 8, 30, 70, 170, 366, 690, 1256, 2028, 2780, 3315, 4391, 4031, 4975, 6326, 4583, 4219, 4344, 3750, 3481, 3159, 2563, 2107, 1794, 1607, 1415, 1189, 970, 701, 686, 665, 456, 373, 359, 272, 236, 195, 195, 122, 111, 109, 57, 79, 50, 37, 44, 25, 29, 20, 18, 20, 9, 11, 9, 8, 7, 4, 5, 9, 9, 12, 1, 9, 2, 18, 1, 17, 1, 9, 11, 1, 13, 1, 1, 13, 4, 9, 4, 4]\n"
     ]
    },
    {
     "data": {
      "image/png": "[encoded data removed]",
      "text/plain": [
       "<Figure size 432x288 with 1 Axes>"
      ]
     },
     "metadata": {
      "needs_background": "light"
     },
     "output_type": "display_data"
    }
   ],
   "source": [
    "bmilist_name=df.select(\"BMI\").collect()\n",
    "bmilist = [row[0] for row in bmilist_name]\n",
    "numcountdict={}\n",
    "for one in bmilist:\n",
    "    got=0\n",
    "    for key1 in numcountdict.keys():\n",
    "        if one==key1:\n",
    "            numbefore=numcountdict[one]\n",
    "            numcountdict[one]=numbefore+1\n",
    "            got=1\n",
    "    if got==0:\n",
    "        numcountdict[one]=1\n",
    "numsortdict=sorted(numcountdict.items(),key=lambda x:x[0])\n",
    "namelist=[]\n",
    "valuelist=[]\n",
    "for ones in numsortdict:\n",
    "    namelist.append(ones[0])\n",
    "    valuelist.append(ones[1])\n",
    "print(namelist,valuelist)\n",
    "import matplotlib.pyplot as plt\n",
    "plt.bar(namelist,valuelist)\n",
    "plt.margins(0.1)\n",
    "plt.show()"
   ]
  },
  {
   "cell_type": "code",
   "execution_count": null,
   "id": "a5db0ebb",
   "metadata": {},
   "outputs": [],
   "source": []
  }
 ],
 "metadata": {
  "kernelspec": {
   "display_name": "Python 3 (ipykernel)",
   "language": "python",
   "name": "python3"
  },
  "language_info": {
   "codemirror_mode": {
    "name": "ipython",
    "version": 3
   },
   "file_extension": ".py",
   "mimetype": "text/x-python",
   "name": "python",
   "nbconvert_exporter": "python",
   "pygments_lexer": "ipython3",
   "version": "3.10.4"
  }
 },
 "nbformat": 4,
 "nbformat_minor": 5
}
