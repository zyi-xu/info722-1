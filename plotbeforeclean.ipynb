{
 "cells": [
  {
   "cell_type": "code",
   "execution_count": 1,
   "id": "f645451c",
   "metadata": {},
   "outputs": [
    {
     "name": "stderr",
     "output_type": "stream",
     "text": [
      "WARNING: An illegal reflective access operation has occurred\n",
      "WARNING: Illegal reflective access by org.apache.spark.unsafe.Platform (file:/home/ubuntu/spark-3.2.1-bin-hadoop2.7/jars/spark-unsafe_2.12-3.2.1.jar) to constructor java.nio.DirectByteBuffer(long,int)\n",
      "WARNING: Please consider reporting this to the maintainers of org.apache.spark.unsafe.Platform\n",
      "WARNING: Use --illegal-access=warn to enable warnings of further illegal reflective access operations\n",
      "WARNING: All illegal access operations will be denied in a future release\n",
      "Using Spark's default log4j profile: org/apache/spark/log4j-defaults.properties\n",
      "Setting default log level to \"WARN\".\n",
      "To adjust logging level use sc.setLogLevel(newLevel). For SparkR, use setLogLevel(newLevel).\n",
      "22/10/11 09:46:53 WARN NativeCodeLoader: Unable to load native-hadoop library for your platform... using builtin-java classes where applicable\n",
      "                                                                                \r"
     ]
    }
   ],
   "source": [
    "import findspark\n",
    "findspark.init('/home/ubuntu/spark-3.2.1-bin-hadoop2.7')\n",
    "import pyspark\n",
    "from pyspark.sql import SparkSession\n",
    "spark = SparkSession.builder.appName('missing').getOrCreate()\n",
    "df = spark.read.csv('diabetedata.csv', header=True, inferSchema=True)\n"
   ]
  },
  {
   "cell_type": "code",
   "execution_count": 31,
   "id": "56c88f94",
   "metadata": {},
   "outputs": [
    {
     "name": "stdout",
     "output_type": "stream",
     "text": [
      "[12, 13, 14, 15, 16, 17, 18, 19, 20, 21, 22, 23, 24, 25, 26, 27, 28, 29, 30, 31, 32, 33, 34, 35, 36, 37, 38, 39, 40, 41, 42, 43, 44, 45, 46, 47, 48, 49, 50, 51, 52, 53, 54, 55, 56, 57, 58, 59, 60, 61, 62, 63, 64, 65, 66, 67, 68, 69, 70, 71, 72, 73, 74, 75, 76, 77, 78, 79, 80, 81, 82, 83, 84, 85, 86, 87, 89, 92, 95, 98] [1, 8, 8, 30, 70, 170, 366, 691, 1256, 2028, 2780, 3315, 4392, 4031, 4975, 6326, 4583, 4219, 4344, 3752, 3481, 3159, 2564, 2107, 1794, 1607, 1415, 1189, 970, 701, 686, 665, 456, 373, 359, 272, 236, 195, 195, 122, 111, 109, 57, 79, 50, 37, 44, 25, 29, 20, 18, 20, 9, 11, 9, 8, 7, 4, 5, 9, 9, 12, 1, 9, 2, 18, 1, 17, 1, 9, 11, 1, 13, 1, 1, 13, 4, 9, 4, 4]\n"
     ]
    },
    {
     "data": {
      "image/png": "[encoded data removed]",
      "text/plain": [
       "<Figure size 432x288 with 1 Axes>"
      ]
     },
     "metadata": {
      "needs_background": "light"
     },
     "output_type": "display_data"
    }
   ],
   "source": [
    "bmilist_name=df.select(\"BMI\").collect()\n",
    "bmilist = [row[0] for row in bmilist_name]\n",
    "numcountdict={}\n",
    "for one in bmilist:\n",
    "    got=0\n",
    "    for key1 in numcountdict.keys():\n",
    "        if one==key1:\n",
    "            numbefore=numcountdict[one]\n",
    "            numcountdict[one]=numbefore+1\n",
    "            got=1\n",
    "    if got==0:\n",
    "        numcountdict[one]=1\n",
    "numsortdict=sorted(numcountdict.items(),key=lambda x:x[0])\n",
    "namelist=[]\n",
    "valuelist=[]\n",
    "for ones in numsortdict:\n",
    "    namelist.append(ones[0])\n",
    "    valuelist.append(ones[1])\n",
    "print(namelist,valuelist)\n",
    "import matplotlib.pyplot as plt\n",
    "plt.bar(namelist,valuelist)\n",
    "plt.margins(0.1)\n",
    "plt.show()"
   ]
  },
  {
   "cell_type": "code",
   "execution_count": 34,
   "id": "33c0845d",
   "metadata": {},
   "outputs": [
    {
     "name": "stdout",
     "output_type": "stream",
     "text": [
      "[0, 1, 3] [35345, 35346, 1]\n"
     ]
    },
    {
     "data": {
      "image/png": "[encoded data removed]",
      "text/plain": [
       "<Figure size 432x288 with 1 Axes>"
      ]
     },
     "metadata": {
      "needs_background": "light"
     },
     "output_type": "display_data"
    }
   ],
   "source": [
    "fromsparklist_name=df.select(\"Diabetes_binary\").collect()\n",
    "fromsparklist = [row[0] for row in fromsparklist_name]\n",
    "numcountdict={}\n",
    "for one in fromsparklist:\n",
    "    got=0\n",
    "    for key1 in numcountdict.keys():\n",
    "        if one==key1:\n",
    "            numbefore=numcountdict[one]\n",
    "            numcountdict[one]=numbefore+1\n",
    "            got=1\n",
    "    if got==0:\n",
    "        numcountdict[one]=1\n",
    "numsortdict=sorted(numcountdict.items(),key=lambda x:x[0])\n",
    "namelist=[]\n",
    "valuelist=[]\n",
    "for ones in numsortdict:\n",
    "    namelist.append(ones[0])\n",
    "    valuelist.append(ones[1])\n",
    "print(namelist,valuelist)\n",
    "import matplotlib.pyplot as plt\n",
    "plt.bar(namelist,valuelist)\n",
    "plt.xticks(namelist,namelist)\n",
    "plt.margins(0.1)\n",
    "plt.show()"
   ]
  },
  {
   "cell_type": "code",
   "execution_count": 3,
   "id": "41ed2120",
   "metadata": {},
   "outputs": [
    {
     "name": "stdout",
     "output_type": "stream",
     "text": [
      "[1, 2, 3, 4, 5, 6] [75, 1647, 3447, 19473, 20030, 26020]\n"
     ]
    },
    {
     "data": {
      "image/png": "[encoded data removed]",
      "text/plain": [
       "<Figure size 432x288 with 1 Axes>"
      ]
     },
     "metadata": {
      "needs_background": "light"
     },
     "output_type": "display_data"
    },
    {
     "name": "stdout",
     "output_type": "stream",
     "text": [
      "Diabetes_binary\n",
      "HighBP\n",
      "HighChol\n",
      "CholCheck\n",
      "BMI\n",
      "Smoker\n",
      "Stroke\n",
      "HeartDiseaseorAttack\n",
      "PhysActivity\n",
      "Fruits\n",
      "Veggies\n",
      "HvyAlcoholConsump\n",
      "AnyHealthcare\n",
      "NoDocbcCost\n",
      "GenHlth\n",
      "MentHlth\n",
      "PhysHlth\n",
      "DiffWalk\n",
      "Sex\n",
      "Age\n",
      "Education\n",
      "Income\n",
      "total colnumber= 22\n"
     ]
    }
   ],
   "source": [
    "fromsparklist_name=df.select(\"Education\").collect()\n",
    "fromsparklist = [row[0] for row in fromsparklist_name]\n",
    "numcountdict={}\n",
    "for one in fromsparklist:\n",
    "    got=0\n",
    "    for key1 in numcountdict.keys():\n",
    "        if one==key1:\n",
    "            numbefore=numcountdict[one]\n",
    "            numcountdict[one]=numbefore+1\n",
    "            got=1\n",
    "    if got==0:\n",
    "        numcountdict[one]=1\n",
    "numsortdict=sorted(numcountdict.items(),key=lambda x:x[0])\n",
    "namelist=[]\n",
    "valuelist=[]\n",
    "for ones in numsortdict:\n",
    "    namelist.append(ones[0])\n",
    "    valuelist.append(ones[1])\n",
    "print(namelist,valuelist)\n",
    "import matplotlib.pyplot as plt\n",
    "plt.bar(namelist,valuelist)\n",
    "plt.xticks(namelist,namelist)\n",
    "plt.margins(0.1)\n",
    "plt.show()\n",
    "colnumber=0\n",
    "for onecolumn in df.columns:\n",
    "    print(onecolumn)\n",
    "    colnumber+=1\n",
    "    \n",
    "print(\"total colnumber=\",colnumber)"
   ]
  },
  {
   "cell_type": "code",
   "execution_count": 5,
   "id": "1b5284c8",
   "metadata": {},
   "outputs": [
    {
     "name": "stdout",
     "output_type": "stream",
     "text": [
      "+---------------+------+--------+---------+---+------+------+--------------------+------------+------+-------+-----------------+-------------+-----------+-------+--------+--------+--------+---+---+---------+------+\n",
      "|Diabetes_binary|HighBP|HighChol|CholCheck|BMI|Smoker|Stroke|HeartDiseaseorAttack|PhysActivity|Fruits|Veggies|HvyAlcoholConsump|AnyHealthcare|NoDocbcCost|GenHlth|MentHlth|PhysHlth|DiffWalk|Sex|Age|Education|Income|\n",
      "+---------------+------+--------+---------+---+------+------+--------------------+------------+------+-------+-----------------+-------------+-----------+-------+--------+--------+--------+---+---+---------+------+\n",
      "+---------------+------+--------+---------+---+------+------+--------------------+------------+------+-------+-----------------+-------------+-----------+-------+--------+--------+--------+---+---+---------+------+\n",
      "\n"
     ]
    },
    {
     "name": "stderr",
     "output_type": "stream",
     "text": [
      "\r",
      "[Stage 4:>                                                          (0 + 1) / 1]\r",
      "\r",
      "                                                                                \r"
     ]
    }
   ],
   "source": []
  },
  {
   "cell_type": "code",
   "execution_count": 15,
   "id": "749e0996",
   "metadata": {},
   "outputs": [
    {
     "name": "stdout",
     "output_type": "stream",
     "text": [
      "+---------------+------+--------+---------+---+------+------+--------------------+------------+------+-------+-----------------+-------------+-----------+-------+--------+--------+--------+---+---+---------+------+\n",
      "|Diabetes_binary|HighBP|HighChol|CholCheck|BMI|Smoker|Stroke|HeartDiseaseorAttack|PhysActivity|Fruits|Veggies|HvyAlcoholConsump|AnyHealthcare|NoDocbcCost|GenHlth|MentHlth|PhysHlth|DiffWalk|Sex|Age|Education|Income|\n",
      "+---------------+------+--------+---------+---+------+------+--------------------+------------+------+-------+-----------------+-------------+-----------+-------+--------+--------+--------+---+---+---------+------+\n",
      "+---------------+------+--------+---------+---+------+------+--------------------+------------+------+-------+-----------------+-------------+-----------+-------+--------+--------+--------+---+---+---------+------+\n",
      "\n",
      "total-data= 70692\n"
     ]
    }
   ],
   "source": [
    "df.where(\"Diabetes_binary is null\" or \"HighBP is null\" or \"HighChol is null\" or \"CholCheck is null\" or \"BMI is null\" or \"Smoker is null\"\\\n",
    "or \"Stroke is null\" or \"HeartDiseaseorAttack is null\" or \"PhysActivity is null\" or \"Fruits is null\" or \"Veggies is null\"\\\n",
    "or \"HvyAlcoholConsump is null\" or \"AnyHealthcare is null\" or \"NoDocbcCost is null\" or \"GenHlth is null\" or \"MentHlth is null\"\\\n",
    "or \"PhysHlth is null\" or \"DiffWalk is null\" or \"Sex is null\" or \"Age is null\" or \"Education is null\" or \"Income is null\").show(truncate=False)\n",
    "print('total-data=',df.count())"
   ]
  },
  {
   "cell_type": "code",
   "execution_count": 16,
   "id": "c74436d0",
   "metadata": {},
   "outputs": [
    {
     "name": "stdout",
     "output_type": "stream",
     "text": [
      "[0, 1, 2] [27442, 43245, 5]\n"
     ]
    },
    {
     "data": {
      "image/png": "[encoded data removed]",
      "text/plain": [
       "<Figure size 432x288 with 1 Axes>"
      ]
     },
     "metadata": {
      "needs_background": "light"
     },
     "output_type": "display_data"
    }
   ],
   "source": [
    "fromsparklist_name=df.select(\"Fruits\").collect()\n",
    "fromsparklist = [row[0] for row in fromsparklist_name]\n",
    "numcountdict={}\n",
    "for one in fromsparklist:\n",
    "    got=0\n",
    "    for key1 in numcountdict.keys():\n",
    "        if one==key1:\n",
    "            numbefore=numcountdict[one]\n",
    "            numcountdict[one]=numbefore+1\n",
    "            got=1\n",
    "    if got==0:\n",
    "        numcountdict[one]=1\n",
    "numsortdict=sorted(numcountdict.items(),key=lambda x:x[0])\n",
    "namelist=[]\n",
    "valuelist=[]\n",
    "for ones in numsortdict:\n",
    "    namelist.append(ones[0])\n",
    "    valuelist.append(ones[1])\n",
    "print(namelist,valuelist)\n",
    "import matplotlib.pyplot as plt\n",
    "plt.bar(namelist,valuelist)\n",
    "plt.xticks(namelist,namelist)\n",
    "plt.margins(0.1)\n",
    "plt.show()"
   ]
  },
  {
   "cell_type": "code",
   "execution_count": 17,
   "id": "3eb2a6d0",
   "metadata": {},
   "outputs": [
    {
     "name": "stdout",
     "output_type": "stream",
     "text": [
      "['0', '1', 'no'] [14929, 55760, 3]\n"
     ]
    },
    {
     "data": {
      "image/png": "[encoded data removed]",
      "text/plain": [
       "<Figure size 432x288 with 1 Axes>"
      ]
     },
     "metadata": {
      "needs_background": "light"
     },
     "output_type": "display_data"
    }
   ],
   "source": [
    "fromsparklist_name=df.select(\"Veggies\").collect()\n",
    "fromsparklist = [row[0] for row in fromsparklist_name]\n",
    "numcountdict={}\n",
    "for one in fromsparklist:\n",
    "    got=0\n",
    "    for key1 in numcountdict.keys():\n",
    "        if one==key1:\n",
    "            numbefore=numcountdict[one]\n",
    "            numcountdict[one]=numbefore+1\n",
    "            got=1\n",
    "    if got==0:\n",
    "        numcountdict[one]=1\n",
    "numsortdict=sorted(numcountdict.items(),key=lambda x:x[0])\n",
    "namelist=[]\n",
    "valuelist=[]\n",
    "for ones in numsortdict:\n",
    "    namelist.append(ones[0])\n",
    "    valuelist.append(ones[1])\n",
    "print(namelist,valuelist)\n",
    "import matplotlib.pyplot as plt\n",
    "plt.bar(namelist,valuelist)\n",
    "plt.xticks(namelist,namelist)\n",
    "plt.margins(0.1)\n",
    "plt.show()"
   ]
  },
  {
   "cell_type": "code",
   "execution_count": 2,
   "id": "64ae4609",
   "metadata": {},
   "outputs": [
    {
     "name": "stderr",
     "output_type": "stream",
     "text": [
      "                                                                                \r"
     ]
    },
    {
     "name": "stdout",
     "output_type": "stream",
     "text": [
      "[0, 1] [3184, 67508]\n"
     ]
    },
    {
     "data": {
      "image/png": "[encoded data removed]",
      "text/plain": [
       "<Figure size 432x288 with 1 Axes>"
      ]
     },
     "metadata": {
      "needs_background": "light"
     },
     "output_type": "display_data"
    }
   ],
   "source": [
    "fromsparklist_name=df.select(\"AnyHealthcare\").collect()\n",
    "fromsparklist = [row[0] for row in fromsparklist_name]\n",
    "numcountdict={}\n",
    "for one in fromsparklist:\n",
    "    got=0\n",
    "    for key1 in numcountdict.keys():\n",
    "        if one==key1:\n",
    "            numbefore=numcountdict[one]\n",
    "            numcountdict[one]=numbefore+1\n",
    "            got=1\n",
    "    if got==0:\n",
    "        numcountdict[one]=1\n",
    "numsortdict=sorted(numcountdict.items(),key=lambda x:x[0])\n",
    "namelist=[]\n",
    "valuelist=[]\n",
    "for ones in numsortdict:\n",
    "    namelist.append(ones[0])\n",
    "    valuelist.append(ones[1])\n",
    "print(namelist,valuelist)\n",
    "import matplotlib.pyplot as plt\n",
    "plt.bar(namelist,valuelist)\n",
    "plt.xticks(namelist,namelist)\n",
    "plt.margins(0.1)\n",
    "plt.show()"
   ]
  },
  {
   "cell_type": "code",
   "execution_count": 3,
   "id": "4c4af1f6",
   "metadata": {},
   "outputs": [
    {
     "name": "stdout",
     "output_type": "stream",
     "text": [
      "[0, 1] [64053, 6639]\n"
     ]
    },
    {
     "data": {
      "image/png": "[encoded data removed]",
      "text/plain": [
       "<Figure size 432x288 with 1 Axes>"
      ]
     },
     "metadata": {
      "needs_background": "light"
     },
     "output_type": "display_data"
    }
   ],
   "source": [
    "fromsparklist_name=df.select(\"NoDocbcCost\").collect()\n",
    "fromsparklist = [row[0] for row in fromsparklist_name]\n",
    "numcountdict={}\n",
    "for one in fromsparklist:\n",
    "    got=0\n",
    "    for key1 in numcountdict.keys():\n",
    "        if one==key1:\n",
    "            numbefore=numcountdict[one]\n",
    "            numcountdict[one]=numbefore+1\n",
    "            got=1\n",
    "    if got==0:\n",
    "        numcountdict[one]=1\n",
    "numsortdict=sorted(numcountdict.items(),key=lambda x:x[0])\n",
    "namelist=[]\n",
    "valuelist=[]\n",
    "for ones in numsortdict:\n",
    "    namelist.append(ones[0])\n",
    "    valuelist.append(ones[1])\n",
    "print(namelist,valuelist)\n",
    "import matplotlib.pyplot as plt\n",
    "plt.bar(namelist,valuelist)\n",
    "plt.xticks(namelist,namelist)\n",
    "plt.margins(0.1)\n",
    "plt.show()"
   ]
  },
  {
   "cell_type": "code",
   "execution_count": null,
   "id": "2b52c9f4",
   "metadata": {},
   "outputs": [],
   "source": []
  }
 ],
 "metadata": {
  "kernelspec": {
   "display_name": "Python 3 (ipykernel)",
   "language": "python",
   "name": "python3"
  },
  "language_info": {
   "codemirror_mode": {
    "name": "ipython",
    "version": 3
   },
   "file_extension": ".py",
   "mimetype": "text/x-python",
   "name": "python",
   "nbconvert_exporter": "python",
   "pygments_lexer": "ipython3",
   "version": "3.10.4"
  }
 },
 "nbformat": 4,
 "nbformat_minor": 5
}
