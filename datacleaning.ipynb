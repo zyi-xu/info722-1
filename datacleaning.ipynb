{
 "cells": [
  {
   "cell_type": "code",
   "execution_count": 1,
   "id": "aa183a04",
   "metadata": {},
   "outputs": [
    {
     "name": "stderr",
     "output_type": "stream",
     "text": [
      "WARNING: An illegal reflective access operation has occurred\n",
      "WARNING: Illegal reflective access by org.apache.spark.unsafe.Platform (file:/home/ubuntu/spark-3.2.1-bin-hadoop2.7/jars/spark-unsafe_2.12-3.2.1.jar) to constructor java.nio.DirectByteBuffer(long,int)\n",
      "WARNING: Please consider reporting this to the maintainers of org.apache.spark.unsafe.Platform\n",
      "WARNING: Use --illegal-access=warn to enable warnings of further illegal reflective access operations\n",
      "WARNING: All illegal access operations will be denied in a future release\n",
      "Using Spark's default log4j profile: org/apache/spark/log4j-defaults.properties\n",
      "Setting default log level to \"WARN\".\n",
      "To adjust logging level use sc.setLogLevel(newLevel). For SparkR, use setLogLevel(newLevel).\n",
      "22/10/09 15:22:22 WARN NativeCodeLoader: Unable to load native-hadoop library for your platform... using builtin-java classes where applicable\n",
      "                                                                                \r"
     ]
    }
   ],
   "source": [
    "import findspark\n",
    "findspark.init('/home/ubuntu/spark-3.2.1-bin-hadoop2.7')\n",
    "import pyspark\n",
    "from pyspark.sql import SparkSession\n",
    "spark = SparkSession.builder.appName('missing').getOrCreate()\n",
    "df = spark.read.csv('diabetedata.csv', header=True, inferSchema=True)"
   ]
  },
  {
   "cell_type": "code",
   "execution_count": 2,
   "id": "b394191e",
   "metadata": {},
   "outputs": [
    {
     "name": "stdout",
     "output_type": "stream",
     "text": [
      "+---------------+------+--------+---------+---+------+------+--------------------+------------+------+-------+-----------------+-------------+-----------+-------+--------+--------+--------+---+---+---------+------+\n",
      "|Diabetes_binary|HighBP|HighChol|CholCheck|BMI|Smoker|Stroke|HeartDiseaseorAttack|PhysActivity|Fruits|Veggies|HvyAlcoholConsump|AnyHealthcare|NoDocbcCost|GenHlth|MentHlth|PhysHlth|DiffWalk|Sex|Age|Education|Income|\n",
      "+---------------+------+--------+---------+---+------+------+--------------------+------------+------+-------+-----------------+-------------+-----------+-------+--------+--------+--------+---+---+---------+------+\n",
      "|              3|     0|       1|        1| 31|     0|     0|                   0|           1|     2|      0|                0|            1|          0|      3|       2|       0|       0|  0| 10|        5|     6|\n",
      "+---------------+------+--------+---------+---+------+------+--------------------+------------+------+-------+-----------------+-------------+-----------+-------+--------+--------+--------+---+---+---------+------+\n",
      "\n"
     ]
    },
    {
     "name": "stderr",
     "output_type": "stream",
     "text": [
      "\r",
      "[Stage 2:>                                                          (0 + 1) / 1]\r",
      "\r",
      "                                                                                \r"
     ]
    }
   ],
   "source": [
    "df.where(\"Diabetes_binary=3\").show()"
   ]
  },
  {
   "cell_type": "code",
   "execution_count": 3,
   "id": "64b51520",
   "metadata": {},
   "outputs": [
    {
     "name": "stderr",
     "output_type": "stream",
     "text": [
      "\r",
      "[Stage 3:>                                                          (0 + 1) / 1]\r"
     ]
    },
    {
     "name": "stdout",
     "output_type": "stream",
     "text": [
      "70687\n"
     ]
    },
    {
     "name": "stderr",
     "output_type": "stream",
     "text": [
      "\r",
      "                                                                                \r"
     ]
    }
   ],
   "source": [
    "df=df.filter(df.Diabetes_binary!=3)\n",
    "df=df.filter(df.Fruits!=2)\n",
    "print(df.count())"
   ]
  },
  {
   "cell_type": "code",
   "execution_count": 4,
   "id": "035b1183",
   "metadata": {},
   "outputs": [
    {
     "name": "stdout",
     "output_type": "stream",
     "text": [
      "+---------------+------+--------+---------+---+------+------+--------------------+------------+------+-------+-----------------+-------------+-----------+-------+--------+--------+--------+---+---+---------+------+\n",
      "|Diabetes_binary|HighBP|HighChol|CholCheck|BMI|Smoker|Stroke|HeartDiseaseorAttack|PhysActivity|Fruits|Veggies|HvyAlcoholConsump|AnyHealthcare|NoDocbcCost|GenHlth|MentHlth|PhysHlth|DiffWalk|Sex|Age|Education|Income|\n",
      "+---------------+------+--------+---------+---+------+------+--------------------+------------+------+-------+-----------------+-------------+-----------+-------+--------+--------+--------+---+---+---------+------+\n",
      "+---------------+------+--------+---------+---+------+------+--------------------+------------+------+-------+-----------------+-------------+-----------+-------+--------+--------+--------+---+---+---------+------+\n",
      "\n"
     ]
    }
   ],
   "source": [
    "\n"
   ]
  },
  {
   "cell_type": "code",
   "execution_count": 4,
   "id": "69f51a2f",
   "metadata": {},
   "outputs": [
    {
     "name": "stdout",
     "output_type": "stream",
     "text": [
      "+---------------+------+--------+---------+---+------+------+--------------------+------------+------+-------+-----------------+-------------+-----------+-------+--------+--------+--------+---+---+---------+------+\n",
      "|Diabetes_binary|HighBP|HighChol|CholCheck|BMI|Smoker|Stroke|HeartDiseaseorAttack|PhysActivity|Fruits|Veggies|HvyAlcoholConsump|AnyHealthcare|NoDocbcCost|GenHlth|MentHlth|PhysHlth|DiffWalk|Sex|Age|Education|Income|\n",
      "+---------------+------+--------+---------+---+------+------+--------------------+------------+------+-------+-----------------+-------------+-----------+-------+--------+--------+--------+---+---+---------+------+\n",
      "|              0|     1|       1|        1| 38|     0|     0|                   0|           0|     1|      1|                0|            1|          0|      4|       0|       6|       1|  0| 12|        1|     4|\n",
      "|              0|     0|       1|        1| 24|     1|     1|                   0|           1|     1|      0|                0|            1|          0|      5|      30|      30|       1|  0|  7|        1|     3|\n",
      "|              0|     1|       1|        1| 28|     1|     0|                   1|           0|     0|      1|                0|            1|          1|      3|      30|      30|       1|  0|  8|        1|     1|\n",
      "|              0|     1|       0|        1| 27|     1|     0|                   0|           1|     0|      0|                0|            1|          0|      5|      30|      25|       0|  0|  8|        1|     1|\n",
      "|              0|     0|       0|        1| 29|     1|     0|                   0|           1|     1|      1|                0|            1|          0|      3|       0|       0|       0|  1| 12|        1|     6|\n",
      "|              0|     0|       1|        1| 20|     0|     0|                   1|           1|     1|      1|                0|            1|          1|      5|      28|      20|       0|  0| 11|        1|     4|\n",
      "|              0|     0|       1|        1| 26|     0|     0|                   1|           0|     0|      0|                0|            0|          0|      1|       0|       0|       0|  1|  7|        1|     4|\n",
      "|              0|     1|       0|        1| 22|     1|     0|                   0|           1|     0|      1|                0|            1|          0|      2|       0|       0|       1|  0| 13|        1|     3|\n",
      "|              0|     1|       0|        1| 32|     0|     0|                   0|           1|     1|      1|                0|            1|          1|      4|       0|       4|       0|  0|  9|        1|     3|\n",
      "|              0|     0|       0|        1| 34|     0|     0|                   0|           1|     0|      1|                0|            1|          0|      3|       0|       0|       0|  0|  3|        1|     6|\n",
      "|              0|     0|       0|        1| 20|     0|     0|                   0|           0|     1|      1|                0|            1|          0|      4|      10|       6|       0|  0| 13|        1|     2|\n",
      "|              0|     0|       1|        1| 31|     1|     0|                   0|           1|     1|      1|                0|            1|          0|      3|       0|       1|       0|  0| 12|        1|     2|\n",
      "|              0|     0|       0|        1| 29|     1|     0|                   0|           0|     0|      0|                0|            1|          0|      4|       0|       0|       0|  1|  4|        1|     5|\n",
      "|              0|     0|       0|        1| 23|     0|     0|                   0|           1|     0|      1|                0|            0|          0|      1|       0|       0|       0|  1|  1|        1|     6|\n",
      "|              0|     1|       1|        1| 34|     1|     0|                   0|           1|     1|      1|                0|            1|          0|      4|       0|      30|       0|  0|  8|        1|     1|\n",
      "|              0|     1|       0|        1| 27|     1|     0|                   0|           1|     1|      1|                0|            1|          0|      3|       0|       0|       0|  0|  8|        1|     8|\n",
      "|              0|     0|       0|        1| 24|     1|     0|                   0|           0|     1|      1|                1|            1|          1|      3|       0|       0|       0|  1| 12|        1|     4|\n",
      "|              0|     0|       1|        1| 26|     0|     0|                   0|           1|     1|      1|                0|            1|          0|      3|       0|       0|       0|  1| 11|        1|     3|\n",
      "|              0|     1|       1|        1| 29|     1|     0|                   1|           1|     1|      0|                0|            1|          0|      4|      10|      29|       0|  0|  9|        1|     3|\n",
      "|              0|     0|       1|        1| 26|     0|     0|                   0|           1|     1|      0|                0|            0|          0|      5|      15|      15|       1|  1|  9|        1|     1|\n",
      "+---------------+------+--------+---------+---+------+------+--------------------+------------+------+-------+-----------------+-------------+-----------+-------+--------+--------+--------+---+---+---------+------+\n",
      "only showing top 20 rows\n",
      "\n"
     ]
    },
    {
     "name": "stderr",
     "output_type": "stream",
     "text": [
      "[Stage 7:============================================>              (3 + 1) / 4]\r"
     ]
    },
    {
     "name": "stdout",
     "output_type": "stream",
     "text": [
      "70687\n"
     ]
    },
    {
     "name": "stderr",
     "output_type": "stream",
     "text": [
      "\r",
      "                                                                                \r"
     ]
    }
   ],
   "source": [
    "from pyspark.sql.functions import *\n",
    "df1=df.filter(df.Education<=3)\n",
    "df1=df1.withColumn(\"Education\",lit(1))\n",
    "df2=df.filter(df.Education==4)\n",
    "df2=df2.withColumn(\"Education\",lit(2))\n",
    "df3=df.filter(df.Education==5)\n",
    "df3=df3.withColumn(\"Education\",lit(2))\n",
    "df4=df.filter(df.Education==6)\n",
    "df4=df4.withColumn(\"Education\",lit(3))\n",
    "df1=df1.union(df2)\n",
    "df1=df1.union(df3)\n",
    "df1=df1.union(df4)\n",
    "df1.show()\n",
    "df=df1\n",
    "print(df.count())"
   ]
  },
  {
   "cell_type": "code",
   "execution_count": 5,
   "id": "0af272b1",
   "metadata": {},
   "outputs": [
    {
     "name": "stderr",
     "output_type": "stream",
     "text": [
      "                                                                                \r"
     ]
    },
    {
     "name": "stdout",
     "output_type": "stream",
     "text": [
      "70684\n"
     ]
    },
    {
     "name": "stderr",
     "output_type": "stream",
     "text": [
      "                                                                                \r"
     ]
    },
    {
     "name": "stdout",
     "output_type": "stream",
     "text": [
      "3\n"
     ]
    },
    {
     "name": "stderr",
     "output_type": "stream",
     "text": [
      "\r",
      "[Stage 17:======================================>                   (2 + 1) / 3]\r",
      "\r",
      "                                                                                \r"
     ]
    },
    {
     "name": "stdout",
     "output_type": "stream",
     "text": [
      "+---------------+------+--------+---------+---+------+------+--------------------+------------+------+-------+-----------------+-------------+-----------+-------+--------+--------+--------+---+---+---------+------+\n",
      "|Diabetes_binary|HighBP|HighChol|CholCheck|BMI|Smoker|Stroke|HeartDiseaseorAttack|PhysActivity|Fruits|Veggies|HvyAlcoholConsump|AnyHealthcare|NoDocbcCost|GenHlth|MentHlth|PhysHlth|DiffWalk|Sex|Age|Education|Income|\n",
      "+---------------+------+--------+---------+---+------+------+--------------------+------------+------+-------+-----------------+-------------+-----------+-------+--------+--------+--------+---+---+---------+------+\n",
      "|              0|     0|       0|        1| 18|     1|     0|                   0|           1|     1|      0|                0|            1|          0|      3|       0|       0|       0|  0| 10|        2|     6|\n",
      "|              0|     0|       1|        1| 29|     1|     0|                   0|           1|     1|      0|                0|            1|          0|      1|       0|       0|       1|  0| 10|        2|     1|\n",
      "|              0|     0|       0|        1| 20|     0|     0|                   0|           1|     0|      0|                0|            1|          0|      1|      30|       2|       0|  1|  1|        2|     7|\n",
      "+---------------+------+--------+---------+---+------+------+--------------------+------------+------+-------+-----------------+-------------+-----------+-------+--------+--------+--------+---+---+---------+------+\n",
      "\n"
     ]
    },
    {
     "name": "stderr",
     "output_type": "stream",
     "text": [
      "[Stage 18:===========================================>              (6 + 1) / 8]\r"
     ]
    },
    {
     "name": "stdout",
     "output_type": "stream",
     "text": [
      "70687\n"
     ]
    },
    {
     "name": "stderr",
     "output_type": "stream",
     "text": [
      "\r",
      "[Stage 18:==================================================>       (7 + 1) / 8]\r",
      "\r",
      "                                                                                \r"
     ]
    }
   ],
   "source": [
    "df1=df.filter(df.Veggies=='no')\n",
    "df1=df1.withColumn(\"Veggies\",lit(0))\n",
    "df=df.filter(df.Veggies!='no')\n",
    "print(df.count())\n",
    "print(df1.count())\n",
    "df1.show()\n",
    "df=df.union(df1)\n",
    "print(df.count())"
   ]
  },
  {
   "cell_type": "code",
   "execution_count": 6,
   "id": "07508617",
   "metadata": {},
   "outputs": [
    {
     "name": "stdout",
     "output_type": "stream",
     "text": [
      "+---------------+------+--------+---------+---+------+------+--------------------+------------+------+-------+-----------------+-------+--------+--------+--------+---+---+---------+------+\n",
      "|Diabetes_binary|HighBP|HighChol|CholCheck|BMI|Smoker|Stroke|HeartDiseaseorAttack|PhysActivity|Fruits|Veggies|HvyAlcoholConsump|GenHlth|MentHlth|PhysHlth|DiffWalk|Sex|Age|Education|Income|\n",
      "+---------------+------+--------+---------+---+------+------+--------------------+------------+------+-------+-----------------+-------+--------+--------+--------+---+---+---------+------+\n",
      "|              0|     1|       1|        1| 38|     0|     0|                   0|           0|     1|      1|                0|      4|       0|       6|       1|  0| 12|        1|     4|\n",
      "|              0|     0|       1|        1| 24|     1|     1|                   0|           1|     1|      0|                0|      5|      30|      30|       1|  0|  7|        1|     3|\n",
      "|              0|     1|       1|        1| 28|     1|     0|                   1|           0|     0|      1|                0|      3|      30|      30|       1|  0|  8|        1|     1|\n",
      "|              0|     1|       0|        1| 27|     1|     0|                   0|           1|     0|      0|                0|      5|      30|      25|       0|  0|  8|        1|     1|\n",
      "|              0|     0|       0|        1| 29|     1|     0|                   0|           1|     1|      1|                0|      3|       0|       0|       0|  1| 12|        1|     6|\n",
      "|              0|     0|       1|        1| 20|     0|     0|                   1|           1|     1|      1|                0|      5|      28|      20|       0|  0| 11|        1|     4|\n",
      "|              0|     0|       1|        1| 26|     0|     0|                   1|           0|     0|      0|                0|      1|       0|       0|       0|  1|  7|        1|     4|\n",
      "|              0|     1|       0|        1| 22|     1|     0|                   0|           1|     0|      1|                0|      2|       0|       0|       1|  0| 13|        1|     3|\n",
      "|              0|     1|       0|        1| 32|     0|     0|                   0|           1|     1|      1|                0|      4|       0|       4|       0|  0|  9|        1|     3|\n",
      "|              0|     0|       0|        1| 34|     0|     0|                   0|           1|     0|      1|                0|      3|       0|       0|       0|  0|  3|        1|     6|\n",
      "|              0|     0|       0|        1| 20|     0|     0|                   0|           0|     1|      1|                0|      4|      10|       6|       0|  0| 13|        1|     2|\n",
      "|              0|     0|       1|        1| 31|     1|     0|                   0|           1|     1|      1|                0|      3|       0|       1|       0|  0| 12|        1|     2|\n",
      "|              0|     0|       0|        1| 29|     1|     0|                   0|           0|     0|      0|                0|      4|       0|       0|       0|  1|  4|        1|     5|\n",
      "|              0|     0|       0|        1| 23|     0|     0|                   0|           1|     0|      1|                0|      1|       0|       0|       0|  1|  1|        1|     6|\n",
      "|              0|     1|       1|        1| 34|     1|     0|                   0|           1|     1|      1|                0|      4|       0|      30|       0|  0|  8|        1|     1|\n",
      "|              0|     1|       0|        1| 27|     1|     0|                   0|           1|     1|      1|                0|      3|       0|       0|       0|  0|  8|        1|     8|\n",
      "|              0|     0|       0|        1| 24|     1|     0|                   0|           0|     1|      1|                1|      3|       0|       0|       0|  1| 12|        1|     4|\n",
      "|              0|     0|       1|        1| 26|     0|     0|                   0|           1|     1|      1|                0|      3|       0|       0|       0|  1| 11|        1|     3|\n",
      "|              0|     1|       1|        1| 29|     1|     0|                   1|           1|     1|      0|                0|      4|      10|      29|       0|  0|  9|        1|     3|\n",
      "|              0|     0|       1|        1| 26|     0|     0|                   0|           1|     1|      0|                0|      5|      15|      15|       1|  1|  9|        1|     1|\n",
      "+---------------+------+--------+---------+---+------+------+--------------------+------------+------+-------+-----------------+-------+--------+--------+--------+---+---+---------+------+\n",
      "only showing top 20 rows\n",
      "\n"
     ]
    }
   ],
   "source": [
    "df=df.drop('AnyHealthcare','NoDocbcCost')\n",
    "df.show()"
   ]
  },
  {
   "cell_type": "code",
   "execution_count": 7,
   "id": "cfebfe4e",
   "metadata": {},
   "outputs": [
    {
     "name": "stdout",
     "output_type": "stream",
     "text": [
      "+---------------+------+--------+---------+------------------+------+------+--------------------+------------+------+-------+-----------------+-------+--------+--------+--------+---+---+---------+------+\n",
      "|Diabetes_binary|HighBP|HighChol|CholCheck|               BMI|Smoker|Stroke|HeartDiseaseorAttack|PhysActivity|Fruits|Veggies|HvyAlcoholConsump|GenHlth|MentHlth|PhysHlth|DiffWalk|Sex|Age|Education|Income|\n",
      "+---------------+------+--------+---------+------------------+------+------+--------------------+------------+------+-------+-----------------+-------+--------+--------+--------+---+---+---------+------+\n",
      "|              0|     1|       1|        1| 6.164414002968976|     0|     0|                   0|           0|     1|      1|                0|      4|       0|       6|       1|  0| 12|        1|     4|\n",
      "|              0|     0|       1|        1| 4.898979485566356|     1|     1|                   0|           1|     1|      0|                0|      5|      30|      30|       1|  0|  7|        1|     3|\n",
      "|              0|     1|       1|        1| 5.291502622129181|     1|     0|                   1|           0|     0|      1|                0|      3|      30|      30|       1|  0|  8|        1|     1|\n",
      "|              0|     1|       0|        1| 5.196152422706632|     1|     0|                   0|           1|     0|      0|                0|      5|      30|      25|       0|  0|  8|        1|     1|\n",
      "|              0|     0|       0|        1| 5.385164807134504|     1|     0|                   0|           1|     1|      1|                0|      3|       0|       0|       0|  1| 12|        1|     6|\n",
      "|              0|     0|       1|        1|  4.47213595499958|     0|     0|                   1|           1|     1|      1|                0|      5|      28|      20|       0|  0| 11|        1|     4|\n",
      "|              0|     0|       1|        1|5.0990195135927845|     0|     0|                   1|           0|     0|      0|                0|      1|       0|       0|       0|  1|  7|        1|     4|\n",
      "|              0|     1|       0|        1|  4.69041575982343|     1|     0|                   0|           1|     0|      1|                0|      2|       0|       0|       1|  0| 13|        1|     3|\n",
      "|              0|     1|       0|        1| 5.656854249492381|     0|     0|                   0|           1|     1|      1|                0|      4|       0|       4|       0|  0|  9|        1|     3|\n",
      "|              0|     0|       0|        1| 5.830951894845301|     0|     0|                   0|           1|     0|      1|                0|      3|       0|       0|       0|  0|  3|        1|     6|\n",
      "|              0|     0|       0|        1|  4.47213595499958|     0|     0|                   0|           0|     1|      1|                0|      4|      10|       6|       0|  0| 13|        1|     2|\n",
      "|              0|     0|       1|        1|5.5677643628300215|     1|     0|                   0|           1|     1|      1|                0|      3|       0|       1|       0|  0| 12|        1|     2|\n",
      "|              0|     0|       0|        1| 5.385164807134504|     1|     0|                   0|           0|     0|      0|                0|      4|       0|       0|       0|  1|  4|        1|     5|\n",
      "|              0|     0|       0|        1| 4.795831523312719|     0|     0|                   0|           1|     0|      1|                0|      1|       0|       0|       0|  1|  1|        1|     6|\n",
      "|              0|     1|       1|        1| 5.830951894845301|     1|     0|                   0|           1|     1|      1|                0|      4|       0|      30|       0|  0|  8|        1|     1|\n",
      "|              0|     1|       0|        1| 5.196152422706632|     1|     0|                   0|           1|     1|      1|                0|      3|       0|       0|       0|  0|  8|        1|     8|\n",
      "|              0|     0|       0|        1| 4.898979485566356|     1|     0|                   0|           0|     1|      1|                1|      3|       0|       0|       0|  1| 12|        1|     4|\n",
      "|              0|     0|       1|        1|5.0990195135927845|     0|     0|                   0|           1|     1|      1|                0|      3|       0|       0|       0|  1| 11|        1|     3|\n",
      "|              0|     1|       1|        1| 5.385164807134504|     1|     0|                   1|           1|     1|      0|                0|      4|      10|      29|       0|  0|  9|        1|     3|\n",
      "|              0|     0|       1|        1|5.0990195135927845|     0|     0|                   0|           1|     1|      0|                0|      5|      15|      15|       1|  1|  9|        1|     1|\n",
      "+---------------+------+--------+---------+------------------+------+------+--------------------+------------+------+-------+-----------------+-------+--------+--------+--------+---+---+---------+------+\n",
      "only showing top 20 rows\n",
      "\n"
     ]
    }
   ],
   "source": [
    "df=df.withColumn(\"BMI\",sqrt(df.BMI))\n",
    "df.show()"
   ]
  },
  {
   "cell_type": "code",
   "execution_count": 8,
   "id": "26588f4b",
   "metadata": {},
   "outputs": [
    {
     "name": "stderr",
     "output_type": "stream",
     "text": [
      "                                                                                \r"
     ]
    }
   ],
   "source": [
    "df.coalesce(1).write.mode(\"overwrite\").option(\"header\",\"true\").option(\"mapreduce.fileoutputcommitter.marksuccessfuljobs\",\"false\").csv(\"cleandiabetedata\")"
   ]
  },
  {
   "cell_type": "code",
   "execution_count": null,
   "id": "36897322",
   "metadata": {},
   "outputs": [],
   "source": []
  }
 ],
 "metadata": {
  "kernelspec": {
   "display_name": "Python 3 (ipykernel)",
   "language": "python",
   "name": "python3"
  },
  "language_info": {
   "codemirror_mode": {
    "name": "ipython",
    "version": 3
   },
   "file_extension": ".py",
   "mimetype": "text/x-python",
   "name": "python",
   "nbconvert_exporter": "python",
   "pygments_lexer": "ipython3",
   "version": "3.10.4"
  }
 },
 "nbformat": 4,
 "nbformat_minor": 5
}
